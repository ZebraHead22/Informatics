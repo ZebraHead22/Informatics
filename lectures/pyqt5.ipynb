{
 "cells": [
  {
   "cell_type": "markdown",
   "metadata": {},
   "source": [
    "# PYQT5"
   ]
  },
  {
   "cell_type": "markdown",
   "metadata": {},
   "source": [
    "## Создание простого окна"
   ]
  },
  {
   "cell_type": "code",
   "execution_count": null,
   "metadata": {},
   "outputs": [],
   "source": [
    "import sys\n",
    "from PyQt5.QtWidgets import QApplication, QMainWindow\n",
    "\n",
    "# Создаем основной класс окна\n",
    "class MainWindow(QMainWindow):\n",
    "    def __init__(self):\n",
    "        super().__init__()\n",
    "        self.setWindowTitle(\"Простое окно PyQt5\")  # Устанавливаем заголовок окна\n",
    "        self.setGeometry(100, 100, 800, 600)  # Устанавливаем размер и положение окна\n",
    "\n",
    "# Основная функция программы\n",
    "def main():\n",
    "    app = QApplication(sys.argv)  # Создаем экземпляр приложения\n",
    "    window = MainWindow()  # Создаем экземпляр основного окна\n",
    "    window.show()  # Показываем окно\n",
    "    sys.exit(app.exec_())  # Запускаем главный цикл приложения\n",
    "\n",
    "if __name__ == \"__main__\":\n",
    "    main()\n"
   ]
  },
  {
   "cell_type": "markdown",
   "metadata": {},
   "source": [
    "**Объяснение:**\n",
    "1. QApplication: Создает объект приложения, необходимый для работы с PyQt.\n",
    "2. QMainWindow: Предоставляет стандартное главное окно, в котором можно добавлять виджеты, меню и статусные строки.\n",
    "3. self.setWindowTitle: Устанавливает заголовок окна.\n",
    "4. self.setGeometry: Определяет положение (x, y) и размер (ширина, высота) окна.\n",
    "5. window.show(): Делает окно видимым на экране.\n",
    "6. app.exec_(): Запускает главный цикл приложения, обрабатывая события."
   ]
  },
  {
   "cell_type": "markdown",
   "metadata": {},
   "source": [
    "## Добавление кнопки"
   ]
  },
  {
   "cell_type": "code",
   "execution_count": null,
   "metadata": {},
   "outputs": [],
   "source": [
    "import sys\n",
    "from PyQt5.QtWidgets import QApplication, QMainWindow, QPushButton\n",
    "\n",
    "class MainWindow(QMainWindow):\n",
    "    def __init__(self):\n",
    "        super().__init__()\n",
    "        self.setWindowTitle(\"Окно с кнопкой\")\n",
    "\n",
    "        button = QPushButton(\"Нажми меня\", self)\n",
    "        button.setGeometry(100, 100, 150, 50)  # Устанавливаем размеры кнопки\n",
    "        button.clicked.connect(self.on_button_click)  # Привязываем сигнал нажатия\n",
    "\n",
    "    def on_button_click(self):\n",
    "        print(\"Кнопка была нажата!\")\n",
    "\n",
    "app = QApplication(sys.argv)\n",
    "window = MainWindow()\n",
    "window.show()\n",
    "sys.exit(app.exec_())\n"
   ]
  },
  {
   "cell_type": "markdown",
   "metadata": {},
   "source": [
    "**Методы**:\n",
    "\n",
    "QPushButton(parent) — создаёт кнопку.\n",
    "clicked.connect(slot_function) — подключает функцию-обработчик сигнала."
   ]
  },
  {
   "cell_type": "markdown",
   "metadata": {},
   "source": [
    "## Создание текстового поля"
   ]
  },
  {
   "cell_type": "code",
   "execution_count": null,
   "metadata": {},
   "outputs": [],
   "source": [
    "import sys\n",
    "from PyQt5.QtWidgets import QApplication, QMainWindow, QLineEdit, QLabel\n",
    "\n",
    "class MainWindow(QMainWindow):\n",
    "    def __init__(self):\n",
    "        super().__init__()\n",
    "        self.setWindowTitle(\"Текстовое поле\")\n",
    "\n",
    "        self.label = QLabel(\"Введите текст:\", self)\n",
    "        self.label.move(10, 10)\n",
    "\n",
    "        self.textbox = QLineEdit(self)\n",
    "        self.textbox.setGeometry(10, 40, 200, 30)\n",
    "        self.textbox.textChanged.connect(self.on_text_change)\n",
    "\n",
    "    def on_text_change(self, text):\n",
    "        self.label.setText(f\"Вы ввели: {text}\")\n",
    "\n",
    "app = QApplication(sys.argv)\n",
    "window = MainWindow()\n",
    "window.show()\n",
    "sys.exit(app.exec_())\n"
   ]
  },
  {
   "cell_type": "markdown",
   "metadata": {},
   "source": [
    "**Методы**:\n",
    "\n",
    "QLineEdit(parent) — создаёт текстовое поле.\n",
    "textChanged.connect(slot_function) — обрабатывает изменение текста в поле."
   ]
  },
  {
   "cell_type": "markdown",
   "metadata": {},
   "source": [
    "## Использование макетов (Layouts)"
   ]
  },
  {
   "cell_type": "code",
   "execution_count": null,
   "metadata": {},
   "outputs": [],
   "source": [
    "import sys\n",
    "from PyQt5.QtWidgets import QApplication, QMainWindow, QWidget, QVBoxLayout, QPushButton\n",
    "\n",
    "class MainWindow(QMainWindow):\n",
    "    def __init__(self):\n",
    "        super().__init__()\n",
    "        self.setWindowTitle(\"Пример с Layout\")\n",
    "\n",
    "        layout = QVBoxLayout()\n",
    "        layout.addWidget(QPushButton(\"Кнопка 1\"))\n",
    "        layout.addWidget(QPushButton(\"Кнопка 2\"))\n",
    "        layout.addWidget(QPushButton(\"Кнопка 3\"))\n",
    "\n",
    "        container = QWidget()\n",
    "        container.setLayout(layout)\n",
    "        self.setCentralWidget(container)\n",
    "\n",
    "app = QApplication(sys.argv)\n",
    "window = MainWindow()\n",
    "window.show()\n",
    "sys.exit(app.exec_())\n"
   ]
  },
  {
   "cell_type": "markdown",
   "metadata": {},
   "source": [
    "**Методы**:\n",
    "\n",
    "QVBoxLayout() — создаёт вертикальный макет.\n",
    "setLayout(layout) — применяет макет к контейнеру.\n",
    "setCentralWidget(widget) — задаёт основной виджет в QMainWindow."
   ]
  },
  {
   "cell_type": "markdown",
   "metadata": {},
   "source": [
    "## Переключатели (RadioButton, CheckBox)"
   ]
  },
  {
   "cell_type": "code",
   "execution_count": null,
   "metadata": {},
   "outputs": [],
   "source": [
    "import sys\n",
    "from PyQt5.QtWidgets import QApplication, QMainWindow, QVBoxLayout, QRadioButton, QCheckBox, QWidget\n",
    "\n",
    "class MainWindow(QMainWindow):\n",
    "    def __init__(self):\n",
    "        super().__init__()\n",
    "        self.setWindowTitle(\"Переключатели\")\n",
    "        \n",
    "        layout = QVBoxLayout()\n",
    "\n",
    "        self.radio1 = QRadioButton(\"Вариант 1\")\n",
    "        self.radio2 = QRadioButton(\"Вариант 2\")\n",
    "        self.checkbox = QCheckBox(\"Согласен с условиями\")\n",
    "        \n",
    "        layout.addWidget(self.radio1)\n",
    "        layout.addWidget(self.radio2)\n",
    "        layout.addWidget(self.checkbox)\n",
    "        \n",
    "        self.container = QWidget()\n",
    "        self.container.setLayout(layout)\n",
    "        self.setCentralWidget(self.container)\n",
    "\n",
    "app = QApplication(sys.argv)\n",
    "window = MainWindow()\n",
    "window.show()\n",
    "sys.exit(app.exec_())\n"
   ]
  },
  {
   "cell_type": "markdown",
   "metadata": {},
   "source": [
    "## Украшение кнопок с динамическим стилем"
   ]
  },
  {
   "cell_type": "code",
   "execution_count": null,
   "metadata": {},
   "outputs": [],
   "source": [
    "import sys\n",
    "from PyQt5.QtWidgets import QApplication, QMainWindow, QPushButton\n",
    "\n",
    "class MainWindow(QMainWindow):\n",
    "    def __init__(self):\n",
    "        super().__init__()\n",
    "        self.setWindowTitle(\"Стилизация кнопок\")\n",
    "\n",
    "        self.button = QPushButton(\"Нажми меня\", self)\n",
    "        self.button.setGeometry(100, 100, 200, 50)\n",
    "        self.button.setStyleSheet(\"background-color: lightblue; border-radius: 10px;\")\n",
    "        self.button.pressed.connect(self.on_pressed)\n",
    "        self.button.released.connect(self.on_released)\n",
    "\n",
    "    def on_pressed(self):\n",
    "        self.button.setStyleSheet(\"background-color: green; color: white; border-radius: 10px;\")\n",
    "\n",
    "    def on_released(self):\n",
    "        self.button.setStyleSheet(\"background-color: lightblue; border-radius: 10px;\")\n",
    "\n",
    "app = QApplication(sys.argv)\n",
    "window = MainWindow()\n",
    "window.show()\n",
    "sys.exit(app.exec_())\n"
   ]
  },
  {
   "cell_type": "markdown",
   "metadata": {},
   "source": [
    "## Скроллы (QScrollBar)"
   ]
  },
  {
   "cell_type": "code",
   "execution_count": null,
   "metadata": {},
   "outputs": [],
   "source": [
    "import sys\n",
    "from PyQt5.QtWidgets import QApplication, QMainWindow, QVBoxLayout, QScrollBar, QLabel, QWidget\n",
    "\n",
    "class MainWindow(QMainWindow):\n",
    "    def __init__(self):\n",
    "        super().__init__()\n",
    "        self.setWindowTitle(\"Скроллы\")\n",
    "        \n",
    "        layout = QVBoxLayout()\n",
    "        self.label = QLabel(\"Значение: 0\")\n",
    "        self.scroll = QScrollBar()\n",
    "        self.scroll.setMaximum(100)\n",
    "        self.scroll.valueChanged.connect(self.update_label)\n",
    "        \n",
    "        layout.addWidget(self.scroll)\n",
    "        layout.addWidget(self.label)\n",
    "\n",
    "        container = QWidget()\n",
    "        container.setLayout(layout)\n",
    "        self.setCentralWidget(container)\n",
    "\n",
    "    def update_label(self, value):\n",
    "        self.label.setText(f\"Значение: {value}\")\n",
    "\n",
    "app = QApplication(sys.argv)\n",
    "window = MainWindow()\n",
    "window.show()\n",
    "sys.exit(app.exec_())\n"
   ]
  },
  {
   "cell_type": "markdown",
   "metadata": {},
   "source": [
    "## Окно для редактирования текста"
   ]
  },
  {
   "cell_type": "code",
   "execution_count": null,
   "metadata": {},
   "outputs": [],
   "source": [
    "import sys\n",
    "from PyQt5.QtWidgets import QApplication, QMainWindow, QVBoxLayout, QTextEdit, QWidget\n",
    "\n",
    "class MainWindow(QMainWindow):\n",
    "    def __init__(self):\n",
    "        super().__init__()\n",
    "        self.setWindowTitle(\"Редактор текста\")\n",
    "        \n",
    "        layout = QVBoxLayout()\n",
    "        self.text_edit = QTextEdit()\n",
    "        self.text_edit.setPlaceholderText(\"Введите текст здесь...\")\n",
    "        layout.addWidget(self.text_edit)\n",
    "\n",
    "        container = QWidget()\n",
    "        container.setLayout(layout)\n",
    "        self.setCentralWidget(container)\n",
    "\n",
    "app = QApplication(sys.argv)\n",
    "window = MainWindow()\n",
    "window.show()\n",
    "sys.exit(app.exec_())\n"
   ]
  },
  {
   "cell_type": "markdown",
   "metadata": {},
   "source": [
    "## Вывод DataFrame в таблицу"
   ]
  },
  {
   "cell_type": "code",
   "execution_count": null,
   "metadata": {},
   "outputs": [],
   "source": [
    "import sys\n",
    "import pandas as pd\n",
    "from PyQt5.QtWidgets import QApplication, QMainWindow, QTableWidget, QTableWidgetItem\n",
    "\n",
    "class MainWindow(QMainWindow):\n",
    "    def __init__(self):\n",
    "        super().__init__()\n",
    "        self.setWindowTitle(\"DataFrame в таблице\")\n",
    "        \n",
    "        data = {\"Имя\": [\"Аня\", \"Иван\", \"Сергей\"], \"Возраст\": [22, 34, 29]}\n",
    "        df = pd.DataFrame(data)\n",
    "\n",
    "        table = QTableWidget(len(df), len(df.columns))\n",
    "        table.setHorizontalHeaderLabels(df.columns)\n",
    "\n",
    "        for row in range(len(df)):\n",
    "            for col in range(len(df.columns)):\n",
    "                item = QTableWidgetItem(str(df.iloc[row, col]))\n",
    "                table.setItem(row, col, item)\n",
    "\n",
    "        self.setCentralWidget(table)\n",
    "\n",
    "app = QApplication(sys.argv)\n",
    "window = MainWindow()\n",
    "window.show()\n",
    "sys.exit(app.exec_())\n"
   ]
  },
  {
   "cell_type": "markdown",
   "metadata": {},
   "source": [
    "## Открытие файла"
   ]
  },
  {
   "cell_type": "code",
   "execution_count": 1,
   "metadata": {},
   "outputs": [
    {
     "name": "stderr",
     "output_type": "stream",
     "text": [
      "2024-11-27 17:12:50.743 Python[9498:5782570] +[IMKClient subclass]: chose IMKClient_Legacy\n",
      "2024-11-27 17:12:50.743 Python[9498:5782570] +[IMKInputSession subclass]: chose IMKInputSession_Legacy\n"
     ]
    },
    {
     "ename": "SystemExit",
     "evalue": "0",
     "output_type": "error",
     "traceback": [
      "An exception has occurred, use %tb to see the full traceback.\n",
      "\u001b[0;31mSystemExit\u001b[0m\u001b[0;31m:\u001b[0m 0\n"
     ]
    },
    {
     "name": "stderr",
     "output_type": "stream",
     "text": [
      "/Users/max/Yandex.Disk.localized/Courses/Informatics/Informatics/informatics/lib/python3.12/site-packages/IPython/core/interactiveshell.py:3585: UserWarning: To exit: use 'exit', 'quit', or Ctrl-D.\n",
      "  warn(\"To exit: use 'exit', 'quit', or Ctrl-D.\", stacklevel=1)\n"
     ]
    }
   ],
   "source": [
    "import sys\n",
    "from PyQt5.QtWidgets import QApplication, QMainWindow, QPushButton, QFileDialog, QTextEdit\n",
    "\n",
    "class MainWindow(QMainWindow):\n",
    "    def __init__(self):\n",
    "        super().__init__()\n",
    "        self.setWindowTitle(\"Открытие файла\")\n",
    "        \n",
    "        self.button = QPushButton(\"Открыть файл\", self)\n",
    "        self.button.clicked.connect(self.open_file)\n",
    "        self.button.setGeometry(10, 10, 150, 30)\n",
    "\n",
    "        self.text_edit = QTextEdit(self)\n",
    "        self.text_edit.setGeometry(10, 50, 400, 300)\n",
    "\n",
    "    def open_file(self):\n",
    "        file_path, _ = QFileDialog.getOpenFileName(self, \"Открыть файл\", \"\", \"Текстовые файлы (*.txt);;Все файлы (*)\")\n",
    "        if file_path:\n",
    "            with open(file_path, 'r') as file:\n",
    "                self.text_edit.setText(file.read())\n",
    "\n",
    "app = QApplication(sys.argv)\n",
    "window = MainWindow()\n",
    "window.show()\n",
    "sys.exit(app.exec_())\n"
   ]
  },
  {
   "cell_type": "markdown",
   "metadata": {},
   "source": [
    "## Qt Designer\n",
    "**Qt Designer** — это инструмент для создания интерфейсов с помощью визуального редактора. Он позволяет:\n",
    "\n",
    "Разрабатывать интерфейс с помощью перетаскивания виджетов.\n",
    "Сохранять макет в формате .ui.\n",
    "Как использовать:\n",
    "\n",
    "Установите Qt Designer (обычно входит в комплект PyQt5).\n",
    "Создайте файл .ui.\n",
    "Сконвертируйте .ui в Python-код с помощью команды:"
   ]
  },
  {
   "cell_type": "markdown",
   "metadata": {},
   "source": [
    "`pyuic5 -x design.ui -o design.py`\n"
   ]
  },
  {
   "cell_type": "code",
   "execution_count": null,
   "metadata": {},
   "outputs": [],
   "source": [
    "import sys\n",
    "from PyQt5.QtWidgets import QApplication, QMainWindow\n",
    "from design import Ui_MainWindow  # Импортируем сгенерированный класс\n",
    "\n",
    "class MainWindow(QMainWindow):\n",
    "    def __init__(self):\n",
    "        super().__init__()\n",
    "        self.ui = Ui_MainWindow()  # Создаем экземпляр класса из design.py\n",
    "        self.ui.setupUi(self)      # Инициализируем интерфейс\n",
    "\n",
    "app = QApplication(sys.argv)\n",
    "window = MainWindow()\n",
    "window.show()\n",
    "sys.exit(app.exec_())\n"
   ]
  }
 ],
 "metadata": {
  "kernelspec": {
   "display_name": "Python 3.12 (myenv)",
   "language": "python",
   "name": "myenv"
  },
  "language_info": {
   "codemirror_mode": {
    "name": "ipython",
    "version": 3
   },
   "file_extension": ".py",
   "mimetype": "text/x-python",
   "name": "python",
   "nbconvert_exporter": "python",
   "pygments_lexer": "ipython3",
   "version": "3.12.5"
  }
 },
 "nbformat": 4,
 "nbformat_minor": 2
}
