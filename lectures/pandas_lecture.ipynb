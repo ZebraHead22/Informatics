{
 "cells": [
  {
   "cell_type": "markdown",
   "metadata": {},
   "source": [
    "# Основы Pandas"
   ]
  },
  {
   "cell_type": "markdown",
   "metadata": {},
   "source": [
    "## Содержание\n",
    "\n",
    "### [1. Что такое Pandas?](#title_1)\n",
    "### [2. Устанока pandas](#title_2)\n",
    "### [3. Структура данных Series](#title_3)\n",
    "### [4. Структура данных DataFrame](#title_4)\n",
    "### [5. Работа с элементами DataFrame](#title_5)\n",
    "### [6. Получение случайного набора из структур pandas](#title_6)\n",
    "### [7. Отсутствующие данные *Nan*](#title_7)\n",
    "### [8. Индексирование массивов](#title_8)\n",
    "### [9. Объединение массивов](#title_9)\n",
    "### [10. Примеры](#title_10)\n",
    "---"
   ]
  },
  {
   "cell_type": "markdown",
   "metadata": {},
   "source": [
    "## <a id='title_1'>Что такое Pandas?</a>\n",
    "\n",
    "Pandas – это библиотека, которая предоставляет очень удобные с точки зрения использования инструменты для хранения данных и работе с ними. Если вы занимаетесь анализом данных или машинным обучением и при этом используете язык Python, то вы просто обязаны знать и уметь работать с pandas.\n",
    "\n",
    "---"
   ]
  },
  {
   "cell_type": "markdown",
   "metadata": {},
   "source": [
    "## <a id='title_2'>Установка pandas</a>\n",
    "\n",
    "### PIP\n",
    "`pip install pandas`\n",
    "\n",
    "### Linux\n",
    "`sudo apt-get install python-pandas`\n",
    "\n",
    "### Проверка\n",
    "\n",
    "```\n",
    "import pandas as pd\n",
    "pd.test()\n",
    "-------------------------------\n",
    "Running unit tests for pandas pandas version 0.18.1 numpy version 1.11.1 pandas is installed in c:\\Anaconda3\\lib\\site-packages\\pandas Python version 3.5.2 |Anaconda 4.1.1 (64-bit)| (default, Nov 12 2023, 11:41:13) [MSC v.1900 64 bit (AMD64)] nose version 1.3.7 .......... ---------------------------------------------------------------------- Ran 11 tests in 0.422s OK\n",
    "\n",
    "```\n",
    "\n"
   ]
  },
  {
   "cell_type": "code",
   "execution_count": null,
   "metadata": {},
   "outputs": [],
   "source": [
    "import pandas as pd\n",
    "pd.test()\n",
    "# Здесь просто пример, запускать не советую"
   ]
  },
  {
   "cell_type": "markdown",
   "metadata": {},
   "source": [
    "---"
   ]
  },
  {
   "cell_type": "markdown",
   "metadata": {},
   "source": [
    "## <a id='title_3'>Структура данных Series</a>\n",
    "\n",
    "- *data* – массив, словарь или скалярное значение, на базе которого будет построен Series;\n",
    "- *index* – список меток, который будет использоваться для доступа к элементам Series. Длина списка должна быть равна длине data;\n",
    "- *dtype* – объект numpy.dtype, определяющий тип данных;\n",
    "- *copy* – создает копию массива данных, если параметр равен True в ином случае ничего не делает.\n"
   ]
  },
  {
   "cell_type": "markdown",
   "metadata": {},
   "source": [
    "## Создание Series из списка Python"
   ]
  },
  {
   "cell_type": "code",
   "execution_count": 1,
   "metadata": {},
   "outputs": [],
   "source": [
    "# Make all imports\n",
    "\n",
    "import os\n",
    "import numpy as np\n",
    "import pandas as pd\n",
    "import matplotlib.pyplot as plt"
   ]
  },
  {
   "cell_type": "code",
   "execution_count": null,
   "metadata": {},
   "outputs": [],
   "source": [
    "s1 = pd.Series([1, 2, 3, 4, 5])\n",
    "print(f\"s1 is\\n{s1}\")\n",
    "\n",
    "s2 = pd.Series([1, 2, 3, 4, 5], index=['a', 'b', 'c', 'd', 'e'])\n",
    "print(f\"s2 is\\n{s2}\")\n"
   ]
  },
  {
   "cell_type": "markdown",
   "metadata": {},
   "source": [
    "## Создание Series из ndarray массива из numpy"
   ]
  },
  {
   "cell_type": "code",
   "execution_count": null,
   "metadata": {},
   "outputs": [],
   "source": [
    "ndarr = np.array([1, 2, 3, 4, 5])\n",
    "type(ndarr)\n"
   ]
  },
  {
   "cell_type": "code",
   "execution_count": null,
   "metadata": {},
   "outputs": [],
   "source": [
    "s3 = pd.Series(ndarr, index=['a', 'b', 'c', 'd', 'e'])\n",
    "print(f\"s3 is\\n{s3}\")\n"
   ]
  },
  {
   "cell_type": "markdown",
   "metadata": {},
   "source": [
    "## Создание Series из словаря (dict)"
   ]
  },
  {
   "cell_type": "code",
   "execution_count": null,
   "metadata": {},
   "outputs": [],
   "source": [
    "d = {'a': 5, 'b': 3,'c': 2,'d': 4,'e': 1}\n",
    "s4 = pd.Series(d)\n",
    "print(f\"s4 is\\n{s4}\")"
   ]
  },
  {
   "cell_type": "markdown",
   "metadata": {},
   "source": [
    "## Работа с элементами Series"
   ]
  },
  {
   "cell_type": "code",
   "execution_count": null,
   "metadata": {},
   "outputs": [],
   "source": [
    "s5 = pd.Series([10, 20, 30, 40, 50], index=['a', 'b', 'c', 'd', 'e'])\n",
    "print(s2 + s5)"
   ]
  },
  {
   "cell_type": "code",
   "execution_count": null,
   "metadata": {},
   "outputs": [],
   "source": [
    "print(s5 * 3)"
   ]
  },
  {
   "cell_type": "markdown",
   "metadata": {},
   "source": [
    "---"
   ]
  },
  {
   "cell_type": "markdown",
   "metadata": {},
   "source": [
    "## <a id='title_4'>Структура данных DataFrame</a>\n",
    "\n",
    "`class pandas.DataFrame(data=None, index=None, columns=None, dtype=None, copy=False)`\n",
    "\n",
    "- *data* – массив *ndarray*, словарь (*dict*) или другой *DataFrame*;\n",
    "- *index* – список меток для записей (имена строк таблицы);\n",
    "- *columns* – список меток для полей (имена столбцов таблицы);\n",
    "- *dtype* – объект *numpy.dtype*, определяющий тип данных;\n",
    "- *copy* – создает копию массива данных, если параметр равен True в ином случае ничего не делает.\n"
   ]
  },
  {
   "cell_type": "markdown",
   "metadata": {},
   "source": [
    "## Создание DataFrame из словаря"
   ]
  },
  {
   "cell_type": "code",
   "execution_count": null,
   "metadata": {},
   "outputs": [],
   "source": [
    "d = {\"price\":pd.Series([1, 2, 3], index=['v1', 'v2', 'v3']),\n",
    "     \"count\":pd.Series([10, 12, 53], index=['v1', 'v2', 'v3'])}\n",
    "df_1 = pd.DataFrame(d)\n",
    "print(f\"df_1 is\\n{df_1}\")"
   ]
  },
  {
   "cell_type": "code",
   "execution_count": null,
   "metadata": {},
   "outputs": [],
   "source": [
    "print(f\"Indexes is\\n{df_1.index}\")\n",
    "print(f\"Columns is\\n{df_1.columns}\")"
   ]
  },
  {
   "cell_type": "markdown",
   "metadata": {},
   "source": [
    "В коде `pd.Series` можно заменить на `np.array` и ничего не поменяется. "
   ]
  },
  {
   "cell_type": "markdown",
   "metadata": {},
   "source": [
    "## Создание DataFrame из списка словарей"
   ]
  },
  {
   "cell_type": "code",
   "execution_count": null,
   "metadata": {},
   "outputs": [],
   "source": [
    "d = [{\"price\": 3, \"count\": 8}, {\"price\": 1, \"count\": 9}]\n",
    "df_2 = pd.DataFrame(d)\n",
    "print(f\"df_2 is\\n{df_2}\")"
   ]
  },
  {
   "cell_type": "code",
   "execution_count": null,
   "metadata": {},
   "outputs": [],
   "source": [
    "print(df_2.info())"
   ]
  },
  {
   "cell_type": "markdown",
   "metadata": {},
   "source": [
    "## Создание DataFrame из двумерного массива"
   ]
  },
  {
   "cell_type": "code",
   "execution_count": null,
   "metadata": {},
   "outputs": [],
   "source": [
    "nda = np.array([[1, 2, 3], [10, 20, 30]])\n",
    "df_3 = pd.DataFrame(nda)\n",
    "print(f\"df_3 is\\n{df_3}\")"
   ]
  },
  {
   "cell_type": "markdown",
   "metadata": {},
   "source": [
    "Как можно заметить, названия колонок заменились на индексы.\n",
    "\n",
    "---"
   ]
  },
  {
   "cell_type": "markdown",
   "metadata": {},
   "source": [
    "## <a id='title_5'>Работа с элементами DataFrame</a>\n",
    "\n",
    "|Операция|Синтаксис|Возвращаемый результат|\n",
    "|:----|:---|:----|\n",
    "|Выбор столбца|`df[col]`|*Series*|\n",
    "|Выбор строки по метке|`df.loc[label]`|*Series*|\n",
    "|Выбор строки по индексу|`df.iloc[loc]`|*Series*|\n",
    "|Слайс по строкам|`df[0:5]`|*DataFrame*|\n",
    "|Выборк строк. отвечающих условию|`df[bool_exp]`|*DataFrame*|"
   ]
  },
  {
   "cell_type": "code",
   "execution_count": null,
   "metadata": {},
   "outputs": [],
   "source": [
    "d = {\"price\":pd.Series([33, 23, 12, 12, 43, 76, 21], index=['v1', 'v2', 'v3', 'v4', 'v5', 'v6', 'v7']),\n",
    "     \"count\":pd.Series([10, 12, 53, 34, 12, 83, 18], index=['v1', 'v2', 'v3', 'v4', 'v5', 'v6', 'v7']),\n",
    "     \"names\":pd.Series(['cats', 'dogs', 'cows', 'crocodiles', 'ravens', 'sturgeons', 'rats'], index=['v1', 'v2', 'v3', 'v4', 'v5', 'v6', 'v7'])}\n",
    "df = pd.DataFrame(d)\n",
    "print(f\"{df}\")"
   ]
  },
  {
   "cell_type": "code",
   "execution_count": null,
   "metadata": {},
   "outputs": [],
   "source": [
    "# Выбор столбца\n",
    "col = df['count']\n",
    "print(col)"
   ]
  },
  {
   "cell_type": "code",
   "execution_count": null,
   "metadata": {},
   "outputs": [],
   "source": [
    "print(df.loc['v2'])"
   ]
  },
  {
   "cell_type": "code",
   "execution_count": null,
   "metadata": {},
   "outputs": [],
   "source": [
    "print(df.iloc[1])"
   ]
  },
  {
   "cell_type": "code",
   "execution_count": null,
   "metadata": {},
   "outputs": [],
   "source": [
    "exp = df['count'] >=20\n",
    "new_df = df[exp] \n",
    "# Можно писать сразу:\n",
    "# new_df = df[df['count'] >=20]\n",
    "print(new_df)"
   ]
  },
  {
   "cell_type": "code",
   "execution_count": null,
   "metadata": {},
   "outputs": [],
   "source": [
    "print(df[[\"price\", \"count\"]])\n",
    "print(\"====================\")\n",
    "print(df[lambda x: x['count'] > 15]) # Обращение через callable функцию"
   ]
  },
  {
   "cell_type": "code",
   "execution_count": null,
   "metadata": {},
   "outputs": [],
   "source": [
    "print(df[df['names'] == 'rats'])\n",
    "print(\"====================\")\n",
    "print(df.names) # Обращение через атрибуты объекта класса"
   ]
  },
  {
   "cell_type": "markdown",
   "metadata": {},
   "source": [
    "---"
   ]
  },
  {
   "cell_type": "markdown",
   "metadata": {},
   "source": [
    "## <a id='title_6'>Получение случайного набора из структур pandas</a>"
   ]
  },
  {
   "cell_type": "code",
   "execution_count": null,
   "metadata": {},
   "outputs": [],
   "source": [
    "print(df.sample()) # Один\n",
    "print(\"====================\")\n",
    "print(df.sample(3)) # Можно указать несколько\n",
    "print(\"====================\")\n",
    "print(df.sample(frac=0.33)) # Можно указать несколько 33% от общего числа"
   ]
  },
  {
   "cell_type": "markdown",
   "metadata": {},
   "source": [
    "### Переключатель между строками и столбцами "
   ]
  },
  {
   "cell_type": "code",
   "execution_count": null,
   "metadata": {},
   "outputs": [],
   "source": [
    "print(df.sample(2)) # Без этого аргумента считается, что axis=0 - кол-во строк\n",
    "print(\"====================\")\n",
    "print(df.sample(n=2, axis=1)) # кол-во столбцов"
   ]
  },
  {
   "cell_type": "markdown",
   "metadata": {},
   "source": [
    "### Добавление элементов в структуры"
   ]
  },
  {
   "cell_type": "code",
   "execution_count": null,
   "metadata": {},
   "outputs": [],
   "source": [
    "df['type'] = ['Mammal', 'Mammal', 'Mammal', 'Reptile', 'Bird', 'Fish', 'Mammal']\n",
    "print(df)"
   ]
  },
  {
   "cell_type": "code",
   "execution_count": null,
   "metadata": {},
   "outputs": [],
   "source": [
    "fn = df['type'].map(lambda x: x == 'Fish')\n",
    "print(fn)\n",
    "print(\"====================\")\n",
    "print(df[fn])"
   ]
  },
  {
   "cell_type": "markdown",
   "metadata": {},
   "source": [
    "### Проверка на нахождение"
   ]
  },
  {
   "cell_type": "code",
   "execution_count": null,
   "metadata": {},
   "outputs": [],
   "source": [
    "print(df.isin(['Reptile', 'Bird']))"
   ]
  },
  {
   "cell_type": "markdown",
   "metadata": {},
   "source": [
    "---"
   ]
  },
  {
   "cell_type": "markdown",
   "metadata": {},
   "source": [
    "## <a id='title_7'>Отсутствующие данные *Nan*</a>\n",
    "\n",
    "Создадим датафрейм еще раз, включив на этот раз некоторые отсутствующие данные:"
   ]
  },
  {
   "cell_type": "code",
   "execution_count": null,
   "metadata": {},
   "outputs": [],
   "source": [
    "d = {\"price\":pd.Series([33, 23, 12, 12, 43, 76, 21]),\n",
    "     \"count\":pd.Series([10, 12, 53, 34, 12, 83, 18]),\n",
    "     \"names\":pd.Series(['cats', 'dogs', 'cows', 'crocodiles', 'ravens', 'sturgeons', 'rats']),\n",
    "     \"type\" : np.array(['Mammal', 'Mammal', 'Mammal', 'Reptile', 'Bird', 'Fish', 'Mammal'])}\n",
    "new_indexes = ['a'+str(i) for i in range (1, len(df) + 1)]\n",
    "\n",
    "df = pd.DataFrame(d)\n",
    "df['id'] = new_indexes\n",
    "df = df.set_index('id')\n",
    "\n",
    "df['owner'] = ['Max', 'Alex', None, None, 'Maria', 'Daria', None]\n",
    "df['animal_old'] = [2, None, 2, 4, None, 1, 3]\n",
    "df['owner_old'] = [34, None, None, None, 18, None, None]\n",
    "print(df)\n"
   ]
  },
  {
   "cell_type": "code",
   "execution_count": null,
   "metadata": {},
   "outputs": [],
   "source": [
    "print(pd.isnull(df)) # True там, где есть None или Nan\n",
    "print(~pd.isnull(df)) # False там, где есть None или Nan"
   ]
  },
  {
   "cell_type": "markdown",
   "metadata": {},
   "source": [
    "Посмотрим, сколько пропущенных значений в каждом столбце:"
   ]
  },
  {
   "cell_type": "code",
   "execution_count": null,
   "metadata": {},
   "outputs": [],
   "source": [
    "print(df.isnull().sum())"
   ]
  },
  {
   "cell_type": "markdown",
   "metadata": {},
   "source": [
    "Заместим все пропущенные данные:\n",
    "- `fillna(arg)` - тем, что будет вместо *arg*;\n",
    "- `fillna(df.mean())` - например, среднему значению по всему массиву."
   ]
  },
  {
   "cell_type": "code",
   "execution_count": null,
   "metadata": {},
   "outputs": [],
   "source": [
    "print(df.fillna(0))\n",
    "print(\"======================================================================\")\n",
    "# А если надо залить разными вещами?\n",
    "df['owner'] = df['owner'].fillna('--')\n",
    "df = df.fillna(0)\n",
    "print(df)\n"
   ]
  },
  {
   "cell_type": "markdown",
   "metadata": {},
   "source": [
    "Попробуем залить столбец *owner_old* средним значением только по этому столбцу:"
   ]
  },
  {
   "cell_type": "code",
   "execution_count": null,
   "metadata": {},
   "outputs": [],
   "source": [
    "d = {\"price\":pd.Series([33, 23, 12, 12, 43, 76, 21]),\n",
    "     \"count\":pd.Series([10, 12, 53, 34, 12, 83, 18]),\n",
    "     \"names\":pd.Series(['cats', 'dogs', 'cows', 'crocodiles', 'ravens', 'sturgeons', 'rats']),\n",
    "     \"type\" : np.array(['Mammal', 'Mammal', 'Mammal', 'Reptile', 'Bird', 'Fish', 'Mammal'])}\n",
    "\n",
    "\n",
    "df = pd.DataFrame(d)\n",
    "\n",
    "df['owner'] = ['Max', 'Alex', None, None, 'Maria', 'Daria', None]\n",
    "df['animal_old'] = [2, None, 2, 4, None, 1, 3]\n",
    "df['owner_old'] = [34, None, None, None, 18, None, None]\n",
    "\n",
    "# Заливаем \n",
    "\n",
    "df['owner_old'] = df['owner_old'].fillna(df['owner_old'].mean())\n",
    "print(df)"
   ]
  },
  {
   "cell_type": "markdown",
   "metadata": {},
   "source": [
    "Попробуем просто удалить строки, в которых пропущены данные:"
   ]
  },
  {
   "cell_type": "code",
   "execution_count": null,
   "metadata": {},
   "outputs": [],
   "source": [
    "df_dr = df.dropna()\n",
    "print(df_dr)"
   ]
  },
  {
   "cell_type": "markdown",
   "metadata": {},
   "source": [
    "А теперь применим это к столбцам:"
   ]
  },
  {
   "cell_type": "code",
   "execution_count": null,
   "metadata": {},
   "outputs": [],
   "source": [
    "df_dr_col = df.dropna(axis=1)\n",
    "print(df_dr_col)"
   ]
  },
  {
   "cell_type": "markdown",
   "metadata": {},
   "source": [
    "А как удалить столбец?"
   ]
  },
  {
   "cell_type": "code",
   "execution_count": null,
   "metadata": {},
   "outputs": [],
   "source": [
    "df = df.drop(['owner_old'], axis='columns')\n",
    "print(df)"
   ]
  },
  {
   "cell_type": "markdown",
   "metadata": {},
   "source": [
    "---"
   ]
  },
  {
   "cell_type": "markdown",
   "metadata": {},
   "source": [
    "## <a id='title_8'>Индексирование массивов</a>\n",
    "\n",
    "|Функция|Описание|\n",
    "|:--|:--|\n",
    "|`df.set_index()`|Устанавливает заданный столбец (или несколько столбцов) в качестве индекса|\n",
    "|`df.reset_index()`|Сбрасывает текущий индекс, возвращая его в виде столбца|\n",
    "|`.xs()`|Формат: `df.xs(key, axis, level)`. Удобно использовать для многомерных индексов (MultiIndex)|"
   ]
  },
  {
   "cell_type": "code",
   "execution_count": null,
   "metadata": {},
   "outputs": [],
   "source": [
    "d = {\"price\":pd.Series([33, 23, 12, 12, 43, 76, 21]),\n",
    "     \"count\":pd.Series([10, 12, 53, 34, 12, 83, 18]),\n",
    "     \"names\":pd.Series(['cats', 'dogs', 'cows', 'crocodiles', 'ravens', 'sturgeons', 'rats']),\n",
    "     \"type\" : np.array(['Mammal', 'Mammal', 'Mammal', 'Reptile', 'Bird', 'Fish', 'Mammal'])}\n",
    "\n",
    "\n",
    "df = pd.DataFrame(d)\n",
    "new_indexes = ['a'+str(i) for i in range (1, len(df) + 1)]\n",
    "df['id'] = new_indexes\n",
    "df = df.set_index('id')\n",
    "\n",
    "df['owner'] = ['Max', 'Alex', None, None, 'Maria', 'Daria', None]\n",
    "df['animal_old'] = [2, None, 2, 4, None, 1, 3]\n",
    "df['owner_old'] = [34, None, None, None, 18, None, None]\n",
    "\n",
    "# Заливаем \n",
    "\n",
    "df['owner_old'] = df['owner_old'].fillna(df['owner_old'].mean())\n",
    "print(df)"
   ]
  },
  {
   "cell_type": "code",
   "execution_count": null,
   "metadata": {},
   "outputs": [],
   "source": [
    "df = df.reset_index()\n",
    "print(df)"
   ]
  },
  {
   "cell_type": "markdown",
   "metadata": {},
   "source": [
    "Также можно настраивать многомерную индексацию массивов:"
   ]
  },
  {
   "cell_type": "code",
   "execution_count": null,
   "metadata": {},
   "outputs": [],
   "source": [
    "df_multi = df.set_index(['type', 'names'])\n",
    "\n",
    "print(df_multi)"
   ]
  },
  {
   "cell_type": "markdown",
   "metadata": {},
   "source": [
    "Также есть очень интересная функция `groupby()`. Функция `groupby()` в Pandas используется для группировки данных по значениям столбцов, что позволяет выполнять агрегирующие операции (например, суммирование, подсчёт, среднее значение) на группах.\n",
    "\n",
    "Вот пример работы функции `groupby()`:"
   ]
  },
  {
   "cell_type": "code",
   "execution_count": null,
   "metadata": {},
   "outputs": [],
   "source": [
    "# Группируем данные по типу животного\n",
    "grouped = df.groupby('type')\n",
    "\n",
    "# Применяем агрегирующую функцию (например, среднее)\n",
    "result = grouped[['price', 'count']].mean()\n",
    "\n",
    "print(result)\n"
   ]
  },
  {
   "cell_type": "markdown",
   "metadata": {},
   "source": [
    "`df.groupby('type')`: Группировка строк по значениям в столбце type.  \n",
    "`[['price', 'count']].mean()`: Для каждой группы вычисляется среднее значение для столбцов *price* и *count*.  \n",
    "\n",
    "\n",
    "Можно применить разные функции к каждому столбцу с помощью `agg()`:"
   ]
  },
  {
   "cell_type": "code",
   "execution_count": null,
   "metadata": {},
   "outputs": [],
   "source": [
    "# Применяем разные агрегирующие функции\n",
    "result = df.groupby('type').agg({\n",
    "    'price': 'mean',      # Среднее значение\n",
    "    'count': 'sum',       # Сумма\n",
    "    'owner': 'count'      # Число ненулевых значений\n",
    "})\n",
    "\n",
    "print(result)\n"
   ]
  },
  {
   "cell_type": "markdown",
   "metadata": {},
   "source": [
    "`groupby()` можно комбинировать с `apply()` для выполнения произвольных операций на каждой группе."
   ]
  },
  {
   "cell_type": "code",
   "execution_count": null,
   "metadata": {},
   "outputs": [],
   "source": [
    "# Пример: Добавление столбца с максимальной ценой в группе\n",
    "df['max_price_by_type'] = df.groupby('type')['price'].transform('max')\n",
    "\n",
    "print(df)\n"
   ]
  },
  {
   "cell_type": "markdown",
   "metadata": {},
   "source": [
    "`transform('max')`: Вычисляет максимум в каждой группе и добавляет его как новый столбец.  \n",
    "Теперь каждый объект в DataFrame знает максимальную цену в своей группе."
   ]
  },
  {
   "cell_type": "markdown",
   "metadata": {},
   "source": [
    "---"
   ]
  },
  {
   "cell_type": "markdown",
   "metadata": {},
   "source": [
    "## <a id='title_9'>Объединение массивов</a>"
   ]
  },
  {
   "cell_type": "markdown",
   "metadata": {},
   "source": [
    "---"
   ]
  },
  {
   "cell_type": "markdown",
   "metadata": {},
   "source": [
    "В Pandas можно конкатенировать и объединять массивы (или DataFrame'ы) для работы с большими и сложными наборами данных."
   ]
  },
  {
   "cell_type": "markdown",
   "metadata": {},
   "source": [
    "1. Конкатенация (concatenation)\n",
    "\n",
    "Конкатенация объединяет данные вертикально (по строкам) или горизонтально (по столбцам). Используется метод `pd.concat()`.  \n",
    "Пример 1: Вертикальная конкатенация (по строкам)"
   ]
  },
  {
   "cell_type": "code",
   "execution_count": null,
   "metadata": {},
   "outputs": [],
   "source": [
    "# Создаём два DataFrame\n",
    "df1 = pd.DataFrame({\n",
    "    'id': [1, 2, 3],\n",
    "    'name': ['Alice', 'Bob', 'Charlie']\n",
    "})\n",
    "df2 = pd.DataFrame({\n",
    "    'id': [4, 5, 6],\n",
    "    'name': ['Diana', 'Eve', 'Frank']\n",
    "})\n",
    "\n",
    "# Конкатенация по строкам\n",
    "result = pd.concat([df1, df2], axis=0)\n",
    "\n",
    "print(result)\n"
   ]
  },
  {
   "cell_type": "markdown",
   "metadata": {},
   "source": [
    "Объяснение:\n",
    "\n",
    "Конкатенация объединяет строки из df1 и df2. Индексы сохраняются, но их можно сбросить с помощью `reset_index(drop=True)`."
   ]
  },
  {
   "cell_type": "markdown",
   "metadata": {},
   "source": [
    "Пример 2: Горизонтальная конкатенация (по столбцам)"
   ]
  },
  {
   "cell_type": "code",
   "execution_count": null,
   "metadata": {},
   "outputs": [],
   "source": [
    "# Создаём два DataFrame\n",
    "df1 = pd.DataFrame({\n",
    "    'id': [1, 2, 3],\n",
    "    'name': ['Alice', 'Bob', 'Charlie']\n",
    "})\n",
    "df2 = pd.DataFrame({\n",
    "    'age': [24, 30, 22],\n",
    "    'city': ['NY', 'LA', 'SF']\n",
    "})\n",
    "\n",
    "# Конкатенация по столбцам\n",
    "result = pd.concat([df1, df2], axis=1)\n",
    "\n",
    "print(result)\n"
   ]
  },
  {
   "cell_type": "markdown",
   "metadata": {},
   "source": [
    "Объяснение:\n",
    "\n",
    "- Данные объединены столбец к столбцу на основе индексов."
   ]
  },
  {
   "cell_type": "markdown",
   "metadata": {},
   "source": [
    "2. Объединение (merge)\n",
    "\n",
    "Метод `pd.merge()` используется для объединения DataFrame'ов на основе общих столбцов или индексов, аналогично SQL.  \n",
    "Пример: Объединение по общему столбцу"
   ]
  },
  {
   "cell_type": "code",
   "execution_count": null,
   "metadata": {},
   "outputs": [],
   "source": [
    "# Создаём два DataFrame\n",
    "df1 = pd.DataFrame({\n",
    "    'id': [1, 2, 3],\n",
    "    'name': ['Alice', 'Bob', 'Charlie']\n",
    "})\n",
    "df2 = pd.DataFrame({\n",
    "    'id': [1, 2, 4],\n",
    "    'age': [24, 30, 40]\n",
    "})\n",
    "\n",
    "# Объединяем по столбцу 'id'\n",
    "result = pd.merge(df1, df2, on='id', how='inner')\n",
    "\n",
    "print(result)\n"
   ]
  },
  {
   "cell_type": "markdown",
   "metadata": {},
   "source": [
    "Объяснение:\n",
    "\n",
    "- Здесь выполняется \"внутреннее соединение\" (inner join), где совпадают значения в столбце id обоих DataFrame'ов."
   ]
  },
  {
   "cell_type": "markdown",
   "metadata": {},
   "source": [
    "Пример: Объединение с разными типами соединений"
   ]
  },
  {
   "cell_type": "code",
   "execution_count": null,
   "metadata": {},
   "outputs": [],
   "source": [
    "# Левое соединение (left join)\n",
    "left_join = pd.merge(df1, df2, on='id', how='left')\n",
    "\n",
    "# Правое соединение (right join)\n",
    "right_join = pd.merge(df1, df2, on='id', how='right')\n",
    "\n",
    "# Полное соединение (outer join)\n",
    "outer_join = pd.merge(df1, df2, on='id', how='outer')\n",
    "\n",
    "print(\"Left Join:\\n\", left_join)\n",
    "print(\"\\nRight Join:\\n\", right_join)\n",
    "print(\"\\nOuter Join:\\n\", outer_join)\n"
   ]
  },
  {
   "cell_type": "markdown",
   "metadata": {},
   "source": [
    "**Итог**\n",
    "\n",
    "- Конкатенация (`pd.concat`): объединяет строки или столбцы без проверки связей.\n",
    "- Объединение (`pd.merge`): выполняет операции, аналогичные SQL, для объединения данных на основе ключей."
   ]
  },
  {
   "cell_type": "markdown",
   "metadata": {},
   "source": [
    "## <a id='title_10'>Примеры</a>"
   ]
  },
  {
   "cell_type": "markdown",
   "metadata": {},
   "source": [
    "### Пример 1\n",
    "Обработка временных данных с агрегированием и интерполяцией пропущенных значений\n",
    "**Задача:**\n",
    "\n",
    "У вас есть временной ряд данных с пропусками. Нужно:\n",
    "\n",
    "- Группировать данные по месяцам.\n",
    "- Вычислить средние значения.\n",
    "- Интерполировать пропущенные значения линейно."
   ]
  },
  {
   "cell_type": "code",
   "execution_count": null,
   "metadata": {},
   "outputs": [],
   "source": [
    "import pandas as pd\n",
    "import numpy as np\n",
    "\n",
    "# Создаем данные\n",
    "date_rng = pd.date_range(start='2023-01-01', end='2023-12-31', freq='D')\n",
    "data = np.random.randint(1, 100, size=(len(date_rng),)).astype(float)\n",
    "data[np.random.choice(len(data), 20, replace=False)] = np.nan  # Вставляем NaN\n",
    "\n",
    "df = pd.DataFrame({'date': date_rng, 'value': data})\n",
    "\n",
    "# Устанавливаем индекс и группируем по месяцам\n",
    "df['month'] = df['date'].dt.to_period('M')\n",
    "monthly_avg = df.groupby('month')['value'].mean()\n",
    "\n",
    "# Интерполяция пропущенных значений\n",
    "df['value_interpolated'] = df['value'].interpolate(method='linear')\n",
    "\n",
    "print(\"Средние значения по месяцам:\\n\", monthly_avg)\n",
    "print(\"\\nДанные с интерполяцией:\\n\", df.head())\n"
   ]
  },
  {
   "cell_type": "markdown",
   "metadata": {},
   "source": [
    "### Пример 2 \n",
    "Нормализация и создание динамических признаков для предсказания\n",
    "**Задача:**\n",
    "\n",
    "Дан массив данных о продажах. Требуется:\n",
    "\n",
    "- Нормализовать данные.\n",
    "- Создать скользящие средние с разными окнами.\n",
    "- Добавить признаки прироста (темпы изменения)."
   ]
  },
  {
   "cell_type": "code",
   "execution_count": null,
   "metadata": {},
   "outputs": [],
   "source": [
    "import pandas as pd\n",
    "import numpy as np\n",
    "\n",
    "# Создаем данные\n",
    "data = {'date': pd.date_range(start='2023-01-01', end='2023-03-01'),\n",
    "        'sales': np.random.randint(50, 500, size=60)}\n",
    "df = pd.DataFrame(data)\n",
    "\n",
    "# Нормализация данных\n",
    "df['sales_normalized'] = (df['sales'] - df['sales'].mean()) / df['sales'].std()\n",
    "\n",
    "# Скользящие средние\n",
    "df['moving_avg_3'] = df['sales'].rolling(window=3).mean()\n",
    "df['moving_avg_7'] = df['sales'].rolling(window=7).mean()\n",
    "\n",
    "# Прирост продаж\n",
    "df['sales_growth'] = df['sales'].pct_change() * 100\n",
    "\n",
    "print(df.head(10))\n"
   ]
  },
  {
   "cell_type": "markdown",
   "metadata": {},
   "source": [
    "### Пример 3\n",
    "Поиск аномалий в многомерных данных с кластеризацией\n",
    "**Задача:**\n",
    "\n",
    "Имеется многомерный массив данных. Нужно:\n",
    "\n",
    "- Выделить аномальные точки.\n",
    "- Использовать метод локтя для выбора оптимального числа кластеров.\n",
    "- Построить кластеризацию с использованием KMeans."
   ]
  },
  {
   "cell_type": "code",
   "execution_count": null,
   "metadata": {},
   "outputs": [],
   "source": [
    "import pandas as pd\n",
    "import numpy as np\n",
    "from sklearn.cluster import KMeans\n",
    "from sklearn.metrics import silhouette_score\n",
    "from sklearn.preprocessing import StandardScaler\n",
    "\n",
    "# Генерация данных\n",
    "np.random.seed(42)\n",
    "data = np.random.normal(size=(100, 3))  # 100 точек в 3D пространстве\n",
    "data[95:] += 5  # Добавляем аномалии\n",
    "\n",
    "df = pd.DataFrame(data, columns=['feature1', 'feature2', 'feature3'])\n",
    "\n",
    "# Нормализация данных\n",
    "scaler = StandardScaler()\n",
    "data_scaled = scaler.fit_transform(df)\n",
    "\n",
    "# Метод локтя для выбора оптимального числа кластеров\n",
    "inertia = []\n",
    "for k in range(1, 10):\n",
    "    kmeans = KMeans(n_clusters=k, random_state=42)\n",
    "    kmeans.fit(data_scaled)\n",
    "    inertia.append(kmeans.inertia_)\n",
    "\n",
    "# Выбор числа кластеров (визуализация может быть построена в Jupyter Notebook)\n",
    "optimal_k = 3  # Предположим, по методу локтя это 3\n",
    "kmeans = KMeans(n_clusters=optimal_k, random_state=42)\n",
    "df['cluster'] = kmeans.fit_predict(data_scaled)\n",
    "\n",
    "# Находим аномалии: точки, далекие от центров кластеров\n",
    "df['distance_to_center'] = np.min(kmeans.transform(data_scaled), axis=1)\n",
    "threshold = np.percentile(df['distance_to_center'], 95)\n",
    "df['is_anomaly'] = df['distance_to_center'] > threshold\n",
    "\n",
    "print(\"Кластеры и аномалии:\\n\", df.head(10))\n"
   ]
  },
  {
   "cell_type": "markdown",
   "metadata": {},
   "source": [
    "**Краткое объяснение:**\n",
    "\n",
    "- Пример 1: Работает с временными данными, чтобы устранить пропуски и аггрегировать информацию. Полезно для временных рядов.\n",
    "- Пример 2: Позволяет готовить данные для предсказания — нормализация, скользящие средние и темпы изменений улучшают входные данные для моделей.\n",
    "- Пример 3: Поиск аномалий с использованием кластеризации и выбором оптимального числа кластеров. Полезно для обработки сложных данных в многомерном пространстве."
   ]
  },
  {
   "cell_type": "markdown",
   "metadata": {},
   "source": [
    "---"
   ]
  }
 ],
 "metadata": {
  "kernelspec": {
   "display_name": "Python 3",
   "language": "python",
   "name": "python3"
  },
  "language_info": {
   "codemirror_mode": {
    "name": "ipython",
    "version": 3
   },
   "file_extension": ".py",
   "mimetype": "text/x-python",
   "name": "python",
   "nbconvert_exporter": "python",
   "pygments_lexer": "ipython3",
   "version": "3.12.3"
  }
 },
 "nbformat": 4,
 "nbformat_minor": 2
}
