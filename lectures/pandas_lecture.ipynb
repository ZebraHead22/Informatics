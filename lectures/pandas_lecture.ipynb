{
 "cells": [
  {
   "cell_type": "markdown",
   "metadata": {},
   "source": [
    "# Основы Pandas"
   ]
  },
  {
   "cell_type": "markdown",
   "metadata": {},
   "source": [
    "## Содержание\n",
    "\n",
    "### [Что такое Pandas?](#title_1)\n",
    "### [Устанока pandas](#title_2)\n",
    "### [Устанока pandas](#title_2)\n",
    "### [Структура данных Series](#title_3)\n",
    "### [Структура данных DataFrame](#title_4)\n",
    "### [Работа с элементами DataFrame](#title_5)\n",
    "### [Получение случайного набора из структур pandas](#title_6)\n",
    "### [Отсутствующие данные *Nan*](#title_7)\n",
    "\n",
    "---"
   ]
  },
  {
   "cell_type": "markdown",
   "metadata": {},
   "source": [
    "## <a id='title_1'>Что такое Pandas?</a>\n",
    "\n",
    "Pandas – это библиотека, которая предоставляет очень удобные с точки зрения использования инструменты для хранения данных и работе с ними. Если вы занимаетесь анализом данных или машинным обучением и при этом используете язык Python, то вы просто обязаны знать и уметь работать с pandas."
   ]
  },
  {
   "cell_type": "markdown",
   "metadata": {},
   "source": [
    "## <a id='title_2'>Установка pandas</a>\n",
    "\n",
    "### PIP\n",
    "`pip install pandas`\n",
    "\n",
    "### Linux\n",
    "`sudo apt-get install python-pandas`\n",
    "\n",
    "### Проверка\n",
    "\n",
    "```\n",
    "import pandas as pd\n",
    "pd.test()\n",
    "-------------------------------\n",
    "Running unit tests for pandas pandas version 0.18.1 numpy version 1.11.1 pandas is installed in c:\\Anaconda3\\lib\\site-packages\\pandas Python version 3.5.2 |Anaconda 4.1.1 (64-bit)| (default, Nov 12 2023, 11:41:13) [MSC v.1900 64 bit (AMD64)] nose version 1.3.7 .......... ---------------------------------------------------------------------- Ran 11 tests in 0.422s OK\n",
    "\n",
    "```\n",
    "\n"
   ]
  },
  {
   "cell_type": "code",
   "execution_count": null,
   "metadata": {},
   "outputs": [],
   "source": [
    "import pandas as pd\n",
    "pd.test()\n",
    "# Здесь просто пример, запускать не советую"
   ]
  },
  {
   "cell_type": "markdown",
   "metadata": {},
   "source": [
    "## <a id='title_3'>Структура данных Series</a>\n",
    "\n",
    "- *data* – массив, словарь или скалярное значение, на базе которого будет построен Series;\n",
    "- *index* – список меток, который будет использоваться для доступа к элементам Series. Длина списка должна быть равна длине data;\n",
    "- *dtype* – объект numpy.dtype, определяющий тип данных;\n",
    "- *copy* – создает копию массива данных, если параметр равен True в ином случае ничего не делает.\n"
   ]
  },
  {
   "cell_type": "markdown",
   "metadata": {},
   "source": [
    "## Создание Series из списка Python"
   ]
  },
  {
   "cell_type": "code",
   "execution_count": 2,
   "metadata": {},
   "outputs": [],
   "source": [
    "# Make all imports\n",
    "\n",
    "import os\n",
    "import numpy as np\n",
    "import pandas as pd\n",
    "import matplotlib.pyplot as plt"
   ]
  },
  {
   "cell_type": "code",
   "execution_count": null,
   "metadata": {},
   "outputs": [],
   "source": [
    "s1 = pd.Series([1, 2, 3, 4, 5])\n",
    "print(f\"s1 is\\n{s1}\")\n",
    "\n",
    "s2 = pd.Series([1, 2, 3, 4, 5], index=['a', 'b', 'c', 'd', 'e'])\n",
    "print(f\"s2 is\\n{s2}\")\n"
   ]
  },
  {
   "cell_type": "markdown",
   "metadata": {},
   "source": [
    "## Создание Series из ndarray массива из numpy"
   ]
  },
  {
   "cell_type": "code",
   "execution_count": null,
   "metadata": {},
   "outputs": [],
   "source": [
    "ndarr = np.array([1, 2, 3, 4, 5])\n",
    "type(ndarr)\n"
   ]
  },
  {
   "cell_type": "code",
   "execution_count": null,
   "metadata": {},
   "outputs": [],
   "source": [
    "s3 = pd.Series(ndarr, index=['a', 'b', 'c', 'd', 'e'])\n",
    "print(f\"s3 is\\n{s3}\")\n"
   ]
  },
  {
   "cell_type": "markdown",
   "metadata": {},
   "source": [
    "## Создание Series из словаря (dict)"
   ]
  },
  {
   "cell_type": "code",
   "execution_count": null,
   "metadata": {},
   "outputs": [],
   "source": [
    "d = {'a': 5, 'b': 3,'c': 2,'d': 4,'e': 1}\n",
    "s4 = pd.Series(d)\n",
    "print(f\"s4 is\\n{s4}\")"
   ]
  },
  {
   "cell_type": "markdown",
   "metadata": {},
   "source": [
    "## Работа с элементами Series"
   ]
  },
  {
   "cell_type": "code",
   "execution_count": null,
   "metadata": {},
   "outputs": [],
   "source": [
    "s5 = pd.Series([10, 20, 30, 40, 50], index=['a', 'b', 'c', 'd', 'e'])\n",
    "print(s2 + s5)"
   ]
  },
  {
   "cell_type": "code",
   "execution_count": null,
   "metadata": {},
   "outputs": [],
   "source": [
    "print(s5 * 3)"
   ]
  },
  {
   "cell_type": "markdown",
   "metadata": {},
   "source": [
    "## <a id='title_4'>Структура данных DataFrame</a>\n",
    "\n",
    "`class pandas.DataFrame(data=None, index=None, columns=None, dtype=None, copy=False)`\n",
    "\n",
    "- *data* – массив *ndarray*, словарь (*dict*) или другой *DataFrame*;\n",
    "- *index* – список меток для записей (имена строк таблицы);\n",
    "- *columns* – список меток для полей (имена столбцов таблицы);\n",
    "- *dtype* – объект *numpy.dtype*, определяющий тип данных;\n",
    "- *copy* – создает копию массива данных, если параметр равен True в ином случае ничего не делает.\n"
   ]
  },
  {
   "cell_type": "markdown",
   "metadata": {},
   "source": [
    "## Создание DataFrame из словаря"
   ]
  },
  {
   "cell_type": "code",
   "execution_count": null,
   "metadata": {},
   "outputs": [],
   "source": [
    "d = {\"price\":pd.Series([1, 2, 3], index=['v1', 'v2', 'v3']),\n",
    "     \"count\":pd.Series([10, 12, 53], index=['v1', 'v2', 'v3'])}\n",
    "df_1 = pd.DataFrame(d)\n",
    "print(f\"df_1 is\\n{df_1}\")"
   ]
  },
  {
   "cell_type": "code",
   "execution_count": null,
   "metadata": {},
   "outputs": [],
   "source": [
    "print(f\"Indexes is\\n{df_1.index}\")\n",
    "print(f\"Columns is\\n{df_1.columns}\")"
   ]
  },
  {
   "cell_type": "markdown",
   "metadata": {},
   "source": [
    "В коде `pd.Series` можно заменить на `np.array` и ничего не поменяется. "
   ]
  },
  {
   "cell_type": "markdown",
   "metadata": {},
   "source": [
    "## Создание DataFrame из списка словарей"
   ]
  },
  {
   "cell_type": "code",
   "execution_count": null,
   "metadata": {},
   "outputs": [],
   "source": [
    "d = [{\"price\": 3, \"count\": 8}, {\"price\": 1, \"count\": 9}]\n",
    "df_2 = pd.DataFrame(d)\n",
    "print(f\"df_2 is\\n{df_2}\")"
   ]
  },
  {
   "cell_type": "code",
   "execution_count": null,
   "metadata": {},
   "outputs": [],
   "source": [
    "print(df_2.info())"
   ]
  },
  {
   "cell_type": "markdown",
   "metadata": {},
   "source": [
    "## Создание DataFrame из двумерного массива"
   ]
  },
  {
   "cell_type": "code",
   "execution_count": null,
   "metadata": {},
   "outputs": [],
   "source": [
    "nda = np.array([[1, 2, 3], [10, 20, 30]])\n",
    "df_3 = pd.DataFrame(nda)\n",
    "print(f\"df_3 is\\n{df_3}\")"
   ]
  },
  {
   "cell_type": "markdown",
   "metadata": {},
   "source": [
    "Как можно заметить, названия колонок заменились на индексы."
   ]
  },
  {
   "cell_type": "markdown",
   "metadata": {},
   "source": [
    "## <a id='title_5'>Работа с элементами DataFrame</a>\n",
    "\n",
    "|Операция|Синтаксис|Возвращаемый результат|\n",
    "|:----|:---|:----|\n",
    "|Выбор столбца|`df[col]`|*Series*|\n",
    "|Выбор строки по метке|`df.loc[label]`|*Series*|\n",
    "|Выбор строки по индексу|`df.iloc[loc]`|*Series*|\n",
    "|Слайс по строкам|`df[0:5]`|*DataFrame*|\n",
    "|Выборк строк. отвечающих условию|`df[bool_exp]`|*DataFrame*|"
   ]
  },
  {
   "cell_type": "code",
   "execution_count": null,
   "metadata": {},
   "outputs": [],
   "source": [
    "d = {\"price\":pd.Series([33, 23, 12, 12, 43, 76, 21], index=['v1', 'v2', 'v3', 'v4', 'v5', 'v6', 'v7']),\n",
    "     \"count\":pd.Series([10, 12, 53, 34, 12, 83, 18], index=['v1', 'v2', 'v3', 'v4', 'v5', 'v6', 'v7']),\n",
    "     \"names\":pd.Series(['cats', 'dogs', 'cows', 'crocodiles', 'ravens', 'sturgeons', 'rats'], index=['v1', 'v2', 'v3', 'v4', 'v5', 'v6', 'v7'])}\n",
    "df = pd.DataFrame(d)\n",
    "print(f\"{df}\")"
   ]
  },
  {
   "cell_type": "code",
   "execution_count": null,
   "metadata": {},
   "outputs": [],
   "source": [
    "# Выбор столбца\n",
    "col = df['count']\n",
    "print(col)"
   ]
  },
  {
   "cell_type": "code",
   "execution_count": null,
   "metadata": {},
   "outputs": [],
   "source": [
    "print(df.loc['v2'])"
   ]
  },
  {
   "cell_type": "code",
   "execution_count": null,
   "metadata": {},
   "outputs": [],
   "source": [
    "print(df.iloc[1])"
   ]
  },
  {
   "cell_type": "code",
   "execution_count": null,
   "metadata": {},
   "outputs": [],
   "source": [
    "exp = df['count'] >=20\n",
    "new_df = df[exp] \n",
    "# Можно писать сразу:\n",
    "# new_df = df[df['count'] >=20]\n",
    "print(new_df)"
   ]
  },
  {
   "cell_type": "code",
   "execution_count": null,
   "metadata": {},
   "outputs": [],
   "source": [
    "print(df[[\"price\", \"count\"]])\n",
    "print(\"====================\")\n",
    "print(df[lambda x: x['count'] > 15]) # Обращение через callable функцию"
   ]
  },
  {
   "cell_type": "code",
   "execution_count": null,
   "metadata": {},
   "outputs": [],
   "source": [
    "print(df[df['names'] == 'rats'])\n",
    "print(\"====================\")\n",
    "print(df.names) # Обращение через атрибуты объекта класса"
   ]
  },
  {
   "cell_type": "markdown",
   "metadata": {},
   "source": [
    "## <a id='title_6'>Получение случайного набора из структур pandas</a>"
   ]
  },
  {
   "cell_type": "code",
   "execution_count": null,
   "metadata": {},
   "outputs": [],
   "source": [
    "print(df.sample()) # Один\n",
    "print(\"====================\")\n",
    "print(df.sample(3)) # Можно указать несколько\n",
    "print(\"====================\")\n",
    "print(df.sample(frac=0.33)) # Можно указать несколько 33% от общего числа"
   ]
  },
  {
   "cell_type": "markdown",
   "metadata": {},
   "source": [
    "### Переключатель между строками и столбцами "
   ]
  },
  {
   "cell_type": "code",
   "execution_count": null,
   "metadata": {},
   "outputs": [],
   "source": [
    "print(df.sample(2)) # Без этого аргумента считается, что axis=0 - кол-во строк\n",
    "print(\"====================\")\n",
    "print(df.sample(n=2, axis=1)) # кол-во столбцов"
   ]
  },
  {
   "cell_type": "markdown",
   "metadata": {},
   "source": [
    "### Добавление элементов в структуры"
   ]
  },
  {
   "cell_type": "code",
   "execution_count": null,
   "metadata": {},
   "outputs": [],
   "source": [
    "df['type'] = ['Mammal', 'Mammal', 'Mammal', 'Reptile', 'Bird', 'Fish', 'Mammal']\n",
    "print(df)"
   ]
  },
  {
   "cell_type": "code",
   "execution_count": null,
   "metadata": {},
   "outputs": [],
   "source": [
    "fn = df['type'].map(lambda x: x == 'Fish')\n",
    "print(fn)\n",
    "print(\"====================\")\n",
    "print(df[fn])"
   ]
  },
  {
   "cell_type": "markdown",
   "metadata": {},
   "source": [
    "### Проверка на нахождение"
   ]
  },
  {
   "cell_type": "code",
   "execution_count": null,
   "metadata": {},
   "outputs": [],
   "source": [
    "print(df.isin(['Reptile', 'Bird']))"
   ]
  },
  {
   "cell_type": "markdown",
   "metadata": {},
   "source": [
    "## <a id='title_7'>Отсутствующие данные *Nan*</a>\n",
    "\n",
    "Создадим датафрейм еще раз, включив на этот раз некоторые отсутствующие данные:"
   ]
  },
  {
   "cell_type": "code",
   "execution_count": null,
   "metadata": {},
   "outputs": [],
   "source": [
    "d = {\"price\":pd.Series([33, 23, 12, 12, 43, 76, 21]),\n",
    "     \"count\":pd.Series([10, 12, 53, 34, 12, 83, 18]),\n",
    "     \"names\":pd.Series(['cats', 'dogs', 'cows', 'crocodiles', 'ravens', 'sturgeons', 'rats']),\n",
    "     \"type\" : np.array(['Mammal', 'Mammal', 'Mammal', 'Reptile', 'Bird', 'Fish', 'Mammal'])}\n",
    "new_indexes = ['a'+str(i) for i in range (1, len(df) + 1)]\n",
    "\n",
    "df = pd.DataFrame(d)\n",
    "df['id'] = new_indexes\n",
    "df = df.set_index('id')\n",
    "\n",
    "df['owner'] = ['Max', 'Alex', None, None, 'Maria', 'Daria', None]\n",
    "df['animal_old'] = [2, None, 2, 4, None, 1, 3]\n",
    "df['owner_old'] = [34, None, None, None, 18, None, None]\n",
    "print(df)\n"
   ]
  },
  {
   "cell_type": "code",
   "execution_count": null,
   "metadata": {},
   "outputs": [],
   "source": [
    "print(pd.isnull(df)) # True там, где есть None или Nan\n",
    "print(~pd.isnull(df)) # False там, где есть None или Nan"
   ]
  },
  {
   "cell_type": "markdown",
   "metadata": {},
   "source": [
    "Посмотрим, сколько пропущенных значений в каждом столбце:"
   ]
  },
  {
   "cell_type": "code",
   "execution_count": null,
   "metadata": {},
   "outputs": [],
   "source": [
    "print(df.isnull().sum())"
   ]
  },
  {
   "cell_type": "markdown",
   "metadata": {},
   "source": [
    "Заместим все пропущенные данные:\n",
    "- `fillna(arg)` - тем, что будет вместо *arg*;\n",
    "- `fillna(df.mean())` - например, среднему значению по всему массиву."
   ]
  },
  {
   "cell_type": "code",
   "execution_count": null,
   "metadata": {},
   "outputs": [],
   "source": [
    "print(df.fillna(0))\n",
    "print(\"======================================================================\")\n",
    "# А если надо залить разными вещами?\n",
    "df['owner'] = df['owner'].fillna('--')\n",
    "df = df.fillna(0)\n",
    "print(df)\n"
   ]
  },
  {
   "cell_type": "markdown",
   "metadata": {},
   "source": [
    "Попробуем залить столбец *owner_old* средним значением только по этому столбцу:"
   ]
  },
  {
   "cell_type": "code",
   "execution_count": null,
   "metadata": {},
   "outputs": [],
   "source": [
    "d = {\"price\":pd.Series([33, 23, 12, 12, 43, 76, 21]),\n",
    "     \"count\":pd.Series([10, 12, 53, 34, 12, 83, 18]),\n",
    "     \"names\":pd.Series(['cats', 'dogs', 'cows', 'crocodiles', 'ravens', 'sturgeons', 'rats']),\n",
    "     \"type\" : np.array(['Mammal', 'Mammal', 'Mammal', 'Reptile', 'Bird', 'Fish', 'Mammal'])}\n",
    "new_indexes = ['a'+str(i) for i in range (1, len(df) + 1)]\n",
    "\n",
    "df = pd.DataFrame(d)\n",
    "df['id'] = new_indexes\n",
    "df = df.set_index('id')\n",
    "\n",
    "df['owner'] = ['Max', 'Alex', None, None, 'Maria', 'Daria', None]\n",
    "df['animal_old'] = [2, None, 2, 4, None, 1, 3]\n",
    "df['owner_old'] = [34, None, None, None, 18, None, None]\n",
    "\n",
    "# Заливаем \n",
    "\n",
    "df['owner_old'] = df['owner_old'].fillna(df['owner_old'].mean())\n",
    "print(df)"
   ]
  },
  {
   "cell_type": "markdown",
   "metadata": {},
   "source": [
    "Попробуем просто удалить строки, в которых пропущены данные:"
   ]
  },
  {
   "cell_type": "code",
   "execution_count": null,
   "metadata": {},
   "outputs": [],
   "source": [
    "df_dr = df.dropna()\n",
    "print(df_dr)"
   ]
  },
  {
   "cell_type": "markdown",
   "metadata": {},
   "source": [
    "А теперь применим это к столбцам:"
   ]
  },
  {
   "cell_type": "code",
   "execution_count": null,
   "metadata": {},
   "outputs": [],
   "source": [
    "df_dr_col = df.dropna(axis=1)\n",
    "print(df_dr_col)"
   ]
  }
 ],
 "metadata": {
  "kernelspec": {
   "display_name": "Python 3.12 (myenv)",
   "language": "python",
   "name": "myenv"
  },
  "language_info": {
   "codemirror_mode": {
    "name": "ipython",
    "version": 3
   },
   "file_extension": ".py",
   "mimetype": "text/x-python",
   "name": "python",
   "nbconvert_exporter": "python",
   "pygments_lexer": "ipython3",
   "version": "3.12.5"
  }
 },
 "nbformat": 4,
 "nbformat_minor": 2
}
